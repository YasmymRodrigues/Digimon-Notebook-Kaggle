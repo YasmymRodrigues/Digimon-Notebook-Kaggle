{
 "cells": [
  {
   "cell_type": "code",
   "execution_count": 1,
   "id": "8f572670",
   "metadata": {
    "_cell_guid": "b1076dfc-b9ad-4769-8c92-a6c4dae69d19",
    "_uuid": "8f2839f25d086af736a60e9eeb907d3b93b6e0e5",
    "execution": {
     "iopub.execute_input": "2023-12-08T20:42:49.922191Z",
     "iopub.status.busy": "2023-12-08T20:42:49.921628Z",
     "iopub.status.idle": "2023-12-08T20:42:50.324962Z",
     "shell.execute_reply": "2023-12-08T20:42:50.323941Z"
    },
    "papermill": {
     "duration": 0.413731,
     "end_time": "2023-12-08T20:42:50.327381",
     "exception": false,
     "start_time": "2023-12-08T20:42:49.913650",
     "status": "completed"
    },
    "tags": []
   },
   "outputs": [
    {
     "name": "stdout",
     "output_type": "stream",
     "text": [
      "/kaggle/input/digidb/DigiDB_movelist.csv\n",
      "/kaggle/input/digidb/DigiDB_supportlist.csv\n",
      "/kaggle/input/digidb/DigiDB_digimonlist.csv\n"
     ]
    }
   ],
   "source": [
    "# This Python 3 environment comes with many helpful analytics libraries installed\n",
    "# It is defined by the kaggle/python Docker image: https://github.com/kaggle/docker-python\n",
    "# For example, here's several helpful packages to load\n",
    "\n",
    "import numpy as np # linear algebra\n",
    "import pandas as pd # data processing, CSV file I/O (e.g. pd.read_csv)\n",
    "\n",
    "# Input data files are available in the read-only \"../input/\" directory\n",
    "# For example, running this (by clicking run or pressing Shift+Enter) will list all files under the input directory\n",
    "\n",
    "import os\n",
    "for dirname, _, filenames in os.walk('/kaggle/input'):\n",
    "    for filename in filenames:\n",
    "        print(os.path.join(dirname, filename))\n",
    "\n",
    "# You can write up to 20GB to the current directory (/kaggle/working/) that gets preserved as output when you create a version using \"Save & Run All\" \n",
    "# You can also write temporary files to /kaggle/temp/, but they won't be saved outside of the current session"
   ]
  },
  {
   "cell_type": "code",
   "execution_count": 2,
   "id": "7761ee41",
   "metadata": {
    "execution": {
     "iopub.execute_input": "2023-12-08T20:42:50.341965Z",
     "iopub.status.busy": "2023-12-08T20:42:50.341064Z",
     "iopub.status.idle": "2023-12-08T20:42:50.405705Z",
     "shell.execute_reply": "2023-12-08T20:42:50.404599Z"
    },
    "papermill": {
     "duration": 0.07357,
     "end_time": "2023-12-08T20:42:50.408399",
     "exception": false,
     "start_time": "2023-12-08T20:42:50.334829",
     "status": "completed"
    },
    "tags": []
   },
   "outputs": [
    {
     "data": {
      "text/html": [
       "<div>\n",
       "<style scoped>\n",
       "    .dataframe tbody tr th:only-of-type {\n",
       "        vertical-align: middle;\n",
       "    }\n",
       "\n",
       "    .dataframe tbody tr th {\n",
       "        vertical-align: top;\n",
       "    }\n",
       "\n",
       "    .dataframe thead th {\n",
       "        text-align: right;\n",
       "    }\n",
       "</style>\n",
       "<table border=\"1\" class=\"dataframe\">\n",
       "  <thead>\n",
       "    <tr style=\"text-align: right;\">\n",
       "      <th></th>\n",
       "      <th>Number</th>\n",
       "      <th>Digimon</th>\n",
       "      <th>Stage</th>\n",
       "      <th>Type</th>\n",
       "      <th>Attribute</th>\n",
       "      <th>Memory</th>\n",
       "      <th>Equip Slots</th>\n",
       "      <th>Lv 50 HP</th>\n",
       "      <th>Lv50 SP</th>\n",
       "      <th>Lv50 Atk</th>\n",
       "      <th>Lv50 Def</th>\n",
       "      <th>Lv50 Int</th>\n",
       "      <th>Lv50 Spd</th>\n",
       "    </tr>\n",
       "  </thead>\n",
       "  <tbody>\n",
       "    <tr>\n",
       "      <th>0</th>\n",
       "      <td>1</td>\n",
       "      <td>Kuramon</td>\n",
       "      <td>Baby</td>\n",
       "      <td>Free</td>\n",
       "      <td>Neutral</td>\n",
       "      <td>2</td>\n",
       "      <td>0</td>\n",
       "      <td>590</td>\n",
       "      <td>77</td>\n",
       "      <td>79</td>\n",
       "      <td>69</td>\n",
       "      <td>68</td>\n",
       "      <td>95</td>\n",
       "    </tr>\n",
       "    <tr>\n",
       "      <th>1</th>\n",
       "      <td>2</td>\n",
       "      <td>Pabumon</td>\n",
       "      <td>Baby</td>\n",
       "      <td>Free</td>\n",
       "      <td>Neutral</td>\n",
       "      <td>2</td>\n",
       "      <td>0</td>\n",
       "      <td>950</td>\n",
       "      <td>62</td>\n",
       "      <td>76</td>\n",
       "      <td>76</td>\n",
       "      <td>69</td>\n",
       "      <td>68</td>\n",
       "    </tr>\n",
       "    <tr>\n",
       "      <th>2</th>\n",
       "      <td>3</td>\n",
       "      <td>Punimon</td>\n",
       "      <td>Baby</td>\n",
       "      <td>Free</td>\n",
       "      <td>Neutral</td>\n",
       "      <td>2</td>\n",
       "      <td>0</td>\n",
       "      <td>870</td>\n",
       "      <td>50</td>\n",
       "      <td>97</td>\n",
       "      <td>87</td>\n",
       "      <td>50</td>\n",
       "      <td>75</td>\n",
       "    </tr>\n",
       "    <tr>\n",
       "      <th>3</th>\n",
       "      <td>4</td>\n",
       "      <td>Botamon</td>\n",
       "      <td>Baby</td>\n",
       "      <td>Free</td>\n",
       "      <td>Neutral</td>\n",
       "      <td>2</td>\n",
       "      <td>0</td>\n",
       "      <td>690</td>\n",
       "      <td>68</td>\n",
       "      <td>77</td>\n",
       "      <td>95</td>\n",
       "      <td>76</td>\n",
       "      <td>61</td>\n",
       "    </tr>\n",
       "    <tr>\n",
       "      <th>4</th>\n",
       "      <td>5</td>\n",
       "      <td>Poyomon</td>\n",
       "      <td>Baby</td>\n",
       "      <td>Free</td>\n",
       "      <td>Neutral</td>\n",
       "      <td>2</td>\n",
       "      <td>0</td>\n",
       "      <td>540</td>\n",
       "      <td>98</td>\n",
       "      <td>54</td>\n",
       "      <td>59</td>\n",
       "      <td>95</td>\n",
       "      <td>86</td>\n",
       "    </tr>\n",
       "    <tr>\n",
       "      <th>...</th>\n",
       "      <td>...</td>\n",
       "      <td>...</td>\n",
       "      <td>...</td>\n",
       "      <td>...</td>\n",
       "      <td>...</td>\n",
       "      <td>...</td>\n",
       "      <td>...</td>\n",
       "      <td>...</td>\n",
       "      <td>...</td>\n",
       "      <td>...</td>\n",
       "      <td>...</td>\n",
       "      <td>...</td>\n",
       "      <td>...</td>\n",
       "    </tr>\n",
       "    <tr>\n",
       "      <th>244</th>\n",
       "      <td>245</td>\n",
       "      <td>Valkyrimon</td>\n",
       "      <td>Mega</td>\n",
       "      <td>Free</td>\n",
       "      <td>Wind</td>\n",
       "      <td>18</td>\n",
       "      <td>3</td>\n",
       "      <td>1330</td>\n",
       "      <td>139</td>\n",
       "      <td>148</td>\n",
       "      <td>129</td>\n",
       "      <td>129</td>\n",
       "      <td>168</td>\n",
       "    </tr>\n",
       "    <tr>\n",
       "      <th>245</th>\n",
       "      <td>246</td>\n",
       "      <td>ShineGreymon BM</td>\n",
       "      <td>Mega</td>\n",
       "      <td>Vaccine</td>\n",
       "      <td>Fire</td>\n",
       "      <td>22</td>\n",
       "      <td>2</td>\n",
       "      <td>1980</td>\n",
       "      <td>114</td>\n",
       "      <td>228</td>\n",
       "      <td>104</td>\n",
       "      <td>84</td>\n",
       "      <td>168</td>\n",
       "    </tr>\n",
       "    <tr>\n",
       "      <th>246</th>\n",
       "      <td>247</td>\n",
       "      <td>MirageGaogamon BM</td>\n",
       "      <td>Mega</td>\n",
       "      <td>Data</td>\n",
       "      <td>Light</td>\n",
       "      <td>20</td>\n",
       "      <td>2</td>\n",
       "      <td>1440</td>\n",
       "      <td>124</td>\n",
       "      <td>178</td>\n",
       "      <td>104</td>\n",
       "      <td>158</td>\n",
       "      <td>174</td>\n",
       "    </tr>\n",
       "    <tr>\n",
       "      <th>247</th>\n",
       "      <td>248</td>\n",
       "      <td>Ravemon BM</td>\n",
       "      <td>Mega</td>\n",
       "      <td>Vaccine</td>\n",
       "      <td>Wind</td>\n",
       "      <td>20</td>\n",
       "      <td>2</td>\n",
       "      <td>1040</td>\n",
       "      <td>133</td>\n",
       "      <td>149</td>\n",
       "      <td>139</td>\n",
       "      <td>144</td>\n",
       "      <td>213</td>\n",
       "    </tr>\n",
       "    <tr>\n",
       "      <th>248</th>\n",
       "      <td>249</td>\n",
       "      <td>Rosemon BM</td>\n",
       "      <td>Mega</td>\n",
       "      <td>Data</td>\n",
       "      <td>Plant</td>\n",
       "      <td>20</td>\n",
       "      <td>2</td>\n",
       "      <td>1480</td>\n",
       "      <td>143</td>\n",
       "      <td>149</td>\n",
       "      <td>139</td>\n",
       "      <td>159</td>\n",
       "      <td>143</td>\n",
       "    </tr>\n",
       "  </tbody>\n",
       "</table>\n",
       "<p>249 rows × 13 columns</p>\n",
       "</div>"
      ],
      "text/plain": [
       "     Number            Digimon Stage     Type Attribute  Memory  Equip Slots  \\\n",
       "0         1            Kuramon  Baby     Free   Neutral       2            0   \n",
       "1         2            Pabumon  Baby     Free   Neutral       2            0   \n",
       "2         3            Punimon  Baby     Free   Neutral       2            0   \n",
       "3         4            Botamon  Baby     Free   Neutral       2            0   \n",
       "4         5            Poyomon  Baby     Free   Neutral       2            0   \n",
       "..      ...                ...   ...      ...       ...     ...          ...   \n",
       "244     245         Valkyrimon  Mega     Free      Wind      18            3   \n",
       "245     246    ShineGreymon BM  Mega  Vaccine      Fire      22            2   \n",
       "246     247  MirageGaogamon BM  Mega     Data     Light      20            2   \n",
       "247     248         Ravemon BM  Mega  Vaccine      Wind      20            2   \n",
       "248     249         Rosemon BM  Mega     Data     Plant      20            2   \n",
       "\n",
       "     Lv 50 HP  Lv50 SP  Lv50 Atk  Lv50 Def  Lv50 Int  Lv50 Spd  \n",
       "0         590       77        79        69        68        95  \n",
       "1         950       62        76        76        69        68  \n",
       "2         870       50        97        87        50        75  \n",
       "3         690       68        77        95        76        61  \n",
       "4         540       98        54        59        95        86  \n",
       "..        ...      ...       ...       ...       ...       ...  \n",
       "244      1330      139       148       129       129       168  \n",
       "245      1980      114       228       104        84       168  \n",
       "246      1440      124       178       104       158       174  \n",
       "247      1040      133       149       139       144       213  \n",
       "248      1480      143       149       139       159       143  \n",
       "\n",
       "[249 rows x 13 columns]"
      ]
     },
     "execution_count": 2,
     "metadata": {},
     "output_type": "execute_result"
    }
   ],
   "source": [
    "df = pd.read_csv('/kaggle/input/digidb/DigiDB_digimonlist.csv')\n",
    "df"
   ]
  },
  {
   "cell_type": "code",
   "execution_count": 3,
   "id": "d6d08b05",
   "metadata": {
    "execution": {
     "iopub.execute_input": "2023-12-08T20:42:50.420286Z",
     "iopub.status.busy": "2023-12-08T20:42:50.419129Z",
     "iopub.status.idle": "2023-12-08T20:42:50.427259Z",
     "shell.execute_reply": "2023-12-08T20:42:50.425481Z"
    },
    "papermill": {
     "duration": 0.018275,
     "end_time": "2023-12-08T20:42:50.431329",
     "exception": false,
     "start_time": "2023-12-08T20:42:50.413054",
     "status": "completed"
    },
    "tags": []
   },
   "outputs": [
    {
     "data": {
      "text/plain": [
       "Index(['Number', 'Digimon', 'Stage', 'Type', 'Attribute', 'Memory',\n",
       "       'Equip Slots', 'Lv 50 HP', 'Lv50 SP', 'Lv50 Atk', 'Lv50 Def',\n",
       "       'Lv50 Int', 'Lv50 Spd'],\n",
       "      dtype='object')"
      ]
     },
     "execution_count": 3,
     "metadata": {},
     "output_type": "execute_result"
    }
   ],
   "source": [
    "df.columns"
   ]
  },
  {
   "cell_type": "code",
   "execution_count": null,
   "id": "db8e692b",
   "metadata": {
    "papermill": {
     "duration": 0.004214,
     "end_time": "2023-12-08T20:42:50.440450",
     "exception": false,
     "start_time": "2023-12-08T20:42:50.436236",
     "status": "completed"
    },
    "tags": []
   },
   "outputs": [],
   "source": []
  },
  {
   "cell_type": "code",
   "execution_count": null,
   "id": "cd539e45",
   "metadata": {
    "papermill": {
     "duration": 0.004104,
     "end_time": "2023-12-08T20:42:50.448929",
     "exception": false,
     "start_time": "2023-12-08T20:42:50.444825",
     "status": "completed"
    },
    "tags": []
   },
   "outputs": [],
   "source": []
  },
  {
   "cell_type": "code",
   "execution_count": null,
   "id": "a85478bb",
   "metadata": {
    "papermill": {
     "duration": 0.003862,
     "end_time": "2023-12-08T20:42:50.457111",
     "exception": false,
     "start_time": "2023-12-08T20:42:50.453249",
     "status": "completed"
    },
    "tags": []
   },
   "outputs": [],
   "source": []
  },
  {
   "cell_type": "code",
   "execution_count": null,
   "id": "45ef08ef",
   "metadata": {
    "papermill": {
     "duration": 0.004,
     "end_time": "2023-12-08T20:42:50.465279",
     "exception": false,
     "start_time": "2023-12-08T20:42:50.461279",
     "status": "completed"
    },
    "tags": []
   },
   "outputs": [],
   "source": []
  },
  {
   "cell_type": "code",
   "execution_count": null,
   "id": "57271ab3",
   "metadata": {
    "papermill": {
     "duration": 0.003815,
     "end_time": "2023-12-08T20:42:50.473245",
     "exception": false,
     "start_time": "2023-12-08T20:42:50.469430",
     "status": "completed"
    },
    "tags": []
   },
   "outputs": [],
   "source": []
  },
  {
   "cell_type": "code",
   "execution_count": null,
   "id": "97ce5872",
   "metadata": {
    "papermill": {
     "duration": 0.003953,
     "end_time": "2023-12-08T20:42:50.481269",
     "exception": false,
     "start_time": "2023-12-08T20:42:50.477316",
     "status": "completed"
    },
    "tags": []
   },
   "outputs": [],
   "source": []
  },
  {
   "cell_type": "code",
   "execution_count": null,
   "id": "a1a46bd5",
   "metadata": {
    "papermill": {
     "duration": 0.004215,
     "end_time": "2023-12-08T20:42:50.489685",
     "exception": false,
     "start_time": "2023-12-08T20:42:50.485470",
     "status": "completed"
    },
    "tags": []
   },
   "outputs": [],
   "source": []
  },
  {
   "cell_type": "code",
   "execution_count": null,
   "id": "ae365ec9",
   "metadata": {
    "papermill": {
     "duration": 0.004128,
     "end_time": "2023-12-08T20:42:50.498394",
     "exception": false,
     "start_time": "2023-12-08T20:42:50.494266",
     "status": "completed"
    },
    "tags": []
   },
   "outputs": [],
   "source": []
  },
  {
   "cell_type": "code",
   "execution_count": null,
   "id": "7cafd646",
   "metadata": {
    "papermill": {
     "duration": 0.0042,
     "end_time": "2023-12-08T20:42:50.507173",
     "exception": false,
     "start_time": "2023-12-08T20:42:50.502973",
     "status": "completed"
    },
    "tags": []
   },
   "outputs": [],
   "source": []
  },
  {
   "cell_type": "code",
   "execution_count": null,
   "id": "f278c51e",
   "metadata": {
    "papermill": {
     "duration": 0.004446,
     "end_time": "2023-12-08T20:42:50.516480",
     "exception": false,
     "start_time": "2023-12-08T20:42:50.512034",
     "status": "completed"
    },
    "tags": []
   },
   "outputs": [],
   "source": []
  },
  {
   "cell_type": "code",
   "execution_count": null,
   "id": "e396d69c",
   "metadata": {
    "papermill": {
     "duration": 0.004628,
     "end_time": "2023-12-08T20:42:50.526749",
     "exception": false,
     "start_time": "2023-12-08T20:42:50.522121",
     "status": "completed"
    },
    "tags": []
   },
   "outputs": [],
   "source": []
  },
  {
   "cell_type": "code",
   "execution_count": null,
   "id": "040903a8",
   "metadata": {
    "papermill": {
     "duration": 0.004139,
     "end_time": "2023-12-08T20:42:50.535733",
     "exception": false,
     "start_time": "2023-12-08T20:42:50.531594",
     "status": "completed"
    },
    "tags": []
   },
   "outputs": [],
   "source": []
  },
  {
   "cell_type": "code",
   "execution_count": null,
   "id": "da7c863e",
   "metadata": {
    "papermill": {
     "duration": 0.004273,
     "end_time": "2023-12-08T20:42:50.544447",
     "exception": false,
     "start_time": "2023-12-08T20:42:50.540174",
     "status": "completed"
    },
    "tags": []
   },
   "outputs": [],
   "source": []
  },
  {
   "cell_type": "code",
   "execution_count": null,
   "id": "759c26ef",
   "metadata": {
    "papermill": {
     "duration": 0.004028,
     "end_time": "2023-12-08T20:42:50.552847",
     "exception": false,
     "start_time": "2023-12-08T20:42:50.548819",
     "status": "completed"
    },
    "tags": []
   },
   "outputs": [],
   "source": []
  },
  {
   "cell_type": "code",
   "execution_count": null,
   "id": "47ea7890",
   "metadata": {
    "papermill": {
     "duration": 0.004198,
     "end_time": "2023-12-08T20:42:50.561505",
     "exception": false,
     "start_time": "2023-12-08T20:42:50.557307",
     "status": "completed"
    },
    "tags": []
   },
   "outputs": [],
   "source": []
  },
  {
   "cell_type": "code",
   "execution_count": null,
   "id": "0e101808",
   "metadata": {
    "papermill": {
     "duration": 0.004241,
     "end_time": "2023-12-08T20:42:50.570346",
     "exception": false,
     "start_time": "2023-12-08T20:42:50.566105",
     "status": "completed"
    },
    "tags": []
   },
   "outputs": [],
   "source": []
  },
  {
   "cell_type": "code",
   "execution_count": null,
   "id": "d31cb421",
   "metadata": {
    "papermill": {
     "duration": 0.00404,
     "end_time": "2023-12-08T20:42:50.578848",
     "exception": false,
     "start_time": "2023-12-08T20:42:50.574808",
     "status": "completed"
    },
    "tags": []
   },
   "outputs": [],
   "source": []
  }
 ],
 "metadata": {
  "kaggle": {
   "accelerator": "none",
   "dataSources": [
    {
     "datasetId": 1593,
     "sourceId": 2837,
     "sourceType": "datasetVersion"
    }
   ],
   "dockerImageVersionId": 30615,
   "isGpuEnabled": false,
   "isInternetEnabled": true,
   "language": "python",
   "sourceType": "notebook"
  },
  "kernelspec": {
   "display_name": "Python 3",
   "language": "python",
   "name": "python3"
  },
  "language_info": {
   "codemirror_mode": {
    "name": "ipython",
    "version": 3
   },
   "file_extension": ".py",
   "mimetype": "text/x-python",
   "name": "python",
   "nbconvert_exporter": "python",
   "pygments_lexer": "ipython3",
   "version": "3.10.12"
  },
  "papermill": {
   "default_parameters": {},
   "duration": 4.487828,
   "end_time": "2023-12-08T20:42:51.307185",
   "environment_variables": {},
   "exception": null,
   "input_path": "__notebook__.ipynb",
   "output_path": "__notebook__.ipynb",
   "parameters": {},
   "start_time": "2023-12-08T20:42:46.819357",
   "version": "2.4.0"
  }
 },
 "nbformat": 4,
 "nbformat_minor": 5
}
